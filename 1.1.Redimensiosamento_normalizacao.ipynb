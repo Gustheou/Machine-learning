{
 "cells": [
  {
   "cell_type": "markdown",
   "id": "10031d57-4e6f-4587-86ff-4eedcf5cd758",
   "metadata": {},
   "source": [
    "# Palmas Machine Learning - Redimensiosamento normalização da etapa de preprocessamento\n",
    "\n",
    "Neste notebook estão sendo feitas as etapas de preprocessamento"
   ]
  },
  {
   "cell_type": "code",
   "execution_count": 24,
   "id": "587a29bc-6b11-4719-af3f-39b0f5acc477",
   "metadata": {},
   "outputs": [],
   "source": [
    "import cv2\n",
    "import matplotlib.pyplot as plt\n",
    "import numpy as np\n",
    "import os"
   ]
  },
  {
   "cell_type": "markdown",
   "id": "11812dba-d436-426b-ab26-736c3752bed3",
   "metadata": {},
   "source": [
    "## Muida\n"
   ]
  },
  {
   "cell_type": "code",
   "execution_count": 50,
   "id": "a93df815-6332-4635-b9fc-072e06ac4c58",
   "metadata": {},
   "outputs": [
    {
     "name": "stdout",
     "output_type": "stream",
     "text": [
      "Número de imagens da muida: 38\n"
     ]
    }
   ],
   "source": [
    "muida_imagens = os.listdir('Miuda editada')\n",
    "print(f'Número de imagens da muida: {len(muida_imagens)}')"
   ]
  },
  {
   "cell_type": "code",
   "execution_count": 51,
   "id": "c39ee858-106a-46ee-8bf6-589ea4ef2b5e",
   "metadata": {},
   "outputs": [],
   "source": [
    "datasets_dir = 'imagens_redimensionadas_normalizadas/Muida'\n",
    "\n",
    "if not os.path.exists(datasets_dir):\n",
    "    os.makedirs(datasets_dir)\n",
    "    print('Diretório foi criado!')"
   ]
  },
  {
   "cell_type": "markdown",
   "id": "18e64787-84d8-4f15-838a-cee5af2a2b26",
   "metadata": {},
   "source": [
    "### Redimensiosamento para 640x640 e normalização das imagens para a escala de 0 a 1."
   ]
  },
  {
   "cell_type": "code",
   "execution_count": 52,
   "id": "2256806b-4597-4b51-8f35-90858c950c57",
   "metadata": {},
   "outputs": [],
   "source": [
    "for miuda_imagem in muida_imagens:\n",
    "    image = cv2.imread(f'Miuda editada/{miuda_imagem}')\n",
    "    image = cv2.cvtColor(image, cv2.COLOR_BGR2RGB)\n",
    "    # Resimensionamento da imagem\n",
    "    image = cv2.resize(image, (640, 640))\n",
    "    # Normalização para imagem para escala de 0 a 1\n",
    "    image = image / 255.0\n",
    "    # Salvar image\n",
    "    plt.imsave(fname=f'{datasets_dir}/{miuda_imagem}', arr=image)"
   ]
  },
  {
   "cell_type": "code",
   "execution_count": null,
   "id": "4ba0870b-3510-4d94-b926-07c18d403a3c",
   "metadata": {},
   "outputs": [],
   "source": []
  },
  {
   "cell_type": "markdown",
   "id": "b9faff3e-990c-4010-9b81-82ebd874e9a6",
   "metadata": {},
   "source": [
    "## Orelha de Elefante"
   ]
  },
  {
   "cell_type": "code",
   "execution_count": 53,
   "id": "0f73d704-1aab-4a21-8397-ba9c8d9ea9a0",
   "metadata": {},
   "outputs": [
    {
     "name": "stdout",
     "output_type": "stream",
     "text": [
      "Número de imagens de Orelha de Elefante: 56\n"
     ]
    }
   ],
   "source": [
    "elefante_imagens = os.listdir('Orelha de elefante editada')\n",
    "print(f'Número de imagens de Orelha de Elefante: {len(elefante_imagens)}')"
   ]
  },
  {
   "cell_type": "code",
   "execution_count": 54,
   "id": "26c9739a-31b0-48dd-bc6e-b2ae4554ebdb",
   "metadata": {},
   "outputs": [],
   "source": [
    "datasets_dir = 'imagens_redimensionadas_normalizadas/Orelha_elefante'\n",
    "\n",
    "if not os.path.exists(datasets_dir):\n",
    "    os.makedirs(datasets_dir)\n",
    "    print('Diretório foi criado!')"
   ]
  },
  {
   "cell_type": "code",
   "execution_count": 55,
   "id": "77a29d5d-b64e-4e88-9a75-d9c2867a755f",
   "metadata": {},
   "outputs": [],
   "source": [
    "for elefante_imagem in elefante_imagens:\n",
    "    image = cv2.imread(f'Orelha de elefante editada/{elefante_imagem}')\n",
    "    image = cv2.cvtColor(image, cv2.COLOR_BGR2RGB)\n",
    "    # Resimensionamento da imagem\n",
    "    image = cv2.resize(image, (640, 640))\n",
    "    # Normalização para imagem para escala de 0 a 1\n",
    "    image = image / 255.0\n",
    "    # Salvar image\n",
    "    plt.imsave(fname=f'{datasets_dir}/{elefante_imagem}', arr=image)"
   ]
  },
  {
   "cell_type": "code",
   "execution_count": null,
   "id": "09b1b961-f72f-43bc-9a85-7f164b799a32",
   "metadata": {},
   "outputs": [],
   "source": []
  }
 ],
 "metadata": {
  "kernelspec": {
   "display_name": "Python 3 (ipykernel)",
   "language": "python",
   "name": "python3"
  },
  "language_info": {
   "codemirror_mode": {
    "name": "ipython",
    "version": 3
   },
   "file_extension": ".py",
   "mimetype": "text/x-python",
   "name": "python",
   "nbconvert_exporter": "python",
   "pygments_lexer": "ipython3",
   "version": "3.10.12"
  }
 },
 "nbformat": 4,
 "nbformat_minor": 5
}
